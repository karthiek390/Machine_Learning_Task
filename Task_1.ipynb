{
  "nbformat": 4,
  "nbformat_minor": 0,
  "metadata": {
    "colab": {
      "private_outputs": true,
      "provenance": []
    },
    "kernelspec": {
      "name": "python3",
      "display_name": "Python 3"
    },
    "language_info": {
      "name": "python"
    },
    "accelerator": "GPU",
    "gpuClass": "standard"
  },
  "cells": [
    {
      "cell_type": "code",
      "execution_count": null,
      "metadata": {
        "id": "TopuU2-x4iv7"
      },
      "outputs": [],
      "source": [
        "import numpy as np\n",
        "import pandas as pd\n",
        "#from sklearn.cluster import KMeans\n",
        "import scipy \n",
        "import sklearn\n",
        "from collections import Counter\n",
        "from sklearn.metrics import multilabel_confusion_matrix\n",
        "from scipy import spatial\n",
        "#Import data\n",
        "#Split data\n",
        "#Function Definitions start\n",
        "#sse_calculation\n",
        "\n",
        "#kMeans Algorithm\n",
        "##Initialize centroids\n",
        "##Looping through the data...\n",
        "##Calculate distance of each point from the centroid using distance functions\n",
        "##Assign that point to that centroid whose distance is minimum\n",
        "##Calucate new centroids for each cluster\n",
        "##Iterate until the centroids doesnt change\n",
        "\n",
        "#Calculate SSE for the entire data points\n",
        "#Compare between different distance measures\n",
        "\n",
        "#Accuracy calculation for the clusters\n",
        "#Compare accuracies between various Kmeans algorithms\n",
        "\n",
        "\n"
      ]
    },
    {
      "cell_type": "code",
      "source": [
        "data = pd.read_csv('/content/drive/MyDrive/data.csv')\n",
        "labels = pd.read_csv('/content/drive/MyDrive/label.csv',names=['label'],header=None)"
      ],
      "metadata": {
        "id": "SPg7bV3n445y"
      },
      "execution_count": null,
      "outputs": []
    },
    {
      "cell_type": "code",
      "source": [
        "data.count()"
      ],
      "metadata": {
        "id": "_VHd7set5aod"
      },
      "execution_count": null,
      "outputs": []
    },
    {
      "cell_type": "code",
      "source": [
        "#Split data\n",
        "from sklearn.model_selection import train_test_split\n",
        "train_data, test_data = train_test_split( data, test_size=0.08, random_state=42)\n",
        "train_labels, test_labels = train_test_split( labels, test_size=0.08, random_state=42)"
      ],
      "metadata": {
        "id": "w1f4GaSL5doY"
      },
      "execution_count": null,
      "outputs": []
    },
    {
      "cell_type": "code",
      "source": [
        "class KMeans:\n",
        "    \n",
        "    def calculate_SSE(self, centroid_value_dict, centroid_dict,data):\n",
        "        sse_data = 0\n",
        "        for i in centroid_dict:\n",
        "            sse_cluster = 0\n",
        "            # np.sum()\n",
        "            for j in centroid_dict[i]:\n",
        "                dp = list(data.iloc[int(j)])\n",
        "                for a,b in zip(centroid_value_dict[i],dp):\n",
        "                    sse_cluster += (a-b)**2\n",
        "            sse_data+=sse_cluster\n",
        "        return sse_data    \n",
        "    \n",
        "    def Initialize_Centroids(self,data,K):\n",
        "        m = data.shape[0]\n",
        "        centroid_value_dict={}\n",
        "        for i in range(K):\n",
        "            r = np.random.randint(0, m-1)\n",
        "            centroid_value_dict[i] = data.iloc[r]\n",
        "        return centroid_value_dict\n",
        "    \n",
        "    def jaccard_similarity(self,centroid, dp):\n",
        "        intersection = len(list(set(centroid).intersection(dp)))\n",
        "        union = (len(set(centroid)) + len(set(dp))) - intersection\n",
        "        return float(intersection) / union\n",
        "\n",
        "    def train_Kmeans(self,data,K,max_iter=20,mode=1,tol=10):\n",
        "        #Mode = 1 => Euclidean np.linalg.norm(x-list(data.iloc[i,:]))\n",
        "        #Mode = 2 => Jaccard\n",
        "        #Mode = 3 => Cosine\n",
        "        centroid_value_dict = self.Initialize_Centroids(data,K)\n",
        "        new_centroid_value_dict = {}\n",
        "        count = 0\n",
        "        centroid_dict = {}\n",
        "        convergence = False\n",
        "        while((count<max_iter) and not convergence):\n",
        "            \n",
        "            for i in list(centroid_value_dict.keys()):\n",
        "                centroid_dict[i]=[]\n",
        "            for i in range(data.shape[0]):\n",
        "                x = data.iloc[i]\n",
        "                if mode==1 :\n",
        "                    distance_measure = [np.linalg.norm(x-centroid_value_dict[j])  for j in centroid_value_dict]\n",
        "                    idx = np.argmin(distance_measure)\n",
        "                    centroid_dict[idx].append(i)\n",
        "                elif mode==2 :\n",
        "                    distance_measure = [self.jaccard_similarity(list(x),centroid_value_dict[j]) for j in centroid_value_dict]\n",
        "                    idx = np.argmax(distance_measure)\n",
        "                    centroid_dict[idx].append(i)\n",
        "                elif mode==3 :\n",
        "                    distance_measure = [1-scipy.spatial.distance.cosine(x,list(centroid_value_dict[j]))  for j in centroid_value_dict]\n",
        "                    idx = np.argmax(distance_measure)\n",
        "                    centroid_dict[idx].append(i)\n",
        "                \n",
        "                prev_centroids=dict(centroid_value_dict)\n",
        "                \n",
        "            \n",
        "            for i in centroid_dict:\n",
        "                if len(centroid_dict[i]):\n",
        "                    dps_centroid = centroid_dict[i]\n",
        "                    centroid_value_dict[i] = np.average(data.iloc[dps_centroid],axis=0)\n",
        "            \n",
        "            \n",
        "            current_tol=-1\n",
        "            for i in centroid_value_dict:\n",
        "                prev_centroid_point = prev_centroids[i]\n",
        "                new_centroid_point = centroid_value_dict[i]\n",
        "                change = np.sum(np.absolute(new_centroid_point-prev_centroid_point))\n",
        "                current_tol = max(change, current_tol)\n",
        "                \n",
        "            print(\"Tolerance for the Iteration \",count,\": \",current_tol)\n",
        "            \n",
        "            count+=1\n",
        "            if (current_tol<10):\n",
        "                convergence = True\n",
        "                break\n",
        "           # print(\"KMeans Iteration\",count)\n",
        "        return centroid_value_dict,centroid_dict\n",
        "    "
      ],
      "metadata": {
        "id": "Juw7iQa-5wof"
      },
      "execution_count": null,
      "outputs": []
    },
    {
      "cell_type": "code",
      "source": [
        "def predict_cluster_labels(C, S, labels):\n",
        "    '''\n",
        "    Input : C -> Centroids\n",
        "            S -> Set of Indicies corresponding to Centroid C\n",
        "            data -> Data used to form clusters\n",
        "    Output : Returns an array of size K having labels based on majority voting in the cluster\n",
        "    '''\n",
        "    cluster_labels = np.zeros(10,dtype=int)\n",
        "    for c in C:\n",
        "        labels_of_points = []\n",
        "        for point in S[c]:\n",
        "            labels_of_points.extend(labels.iloc[point])\n",
        "        counter = Counter(labels_of_points)\n",
        "        try:\n",
        "            cluster_labels[c] = max(counter, key=counter.get)\n",
        "        except:\n",
        "            cluster_labels[c] = np.random.randint(0,9)\n",
        "    return cluster_labels"
      ],
      "metadata": {
        "id": "xVzT7QXN5yrt"
      },
      "execution_count": null,
      "outputs": []
    },
    {
      "cell_type": "code",
      "source": [
        "def jaccard_similarity(centroid, dp):\n",
        "        intersection = len(list(set(centroid).intersection(dp)))\n",
        "        union = (len(set(centroid)) + len(set(dp))) - intersection\n",
        "        return float(intersection) / union"
      ],
      "metadata": {
        "id": "O8pnmpCM5z1b"
      },
      "execution_count": null,
      "outputs": []
    },
    {
      "cell_type": "code",
      "source": [
        "def accuracy(centroids, centroid_Labels, test_data, true_labels, mode=1):\n",
        "    y_true = list(true_labels['label']);\n",
        "    y_pred = []\n",
        "    for index in range(test_data.shape[0]):\n",
        "        featureset = test_data.iloc[index]\n",
        "        if mode==1:\n",
        "            distances = [np.linalg.norm(featureset - centroids[centroid]) for centroid in centroids]\n",
        "            classification = distances.index(min(distances))\n",
        "            y_pred.append(centroid_Labels[classification])\n",
        "        elif mode==2:\n",
        "            similarity = [jaccard_similarity(featureset, centroids[centroid]) for centroid in centroids]\n",
        "            classification = similarity.index(max(similarity))\n",
        "            y_pred.append(centroid_Labels[classification]) \n",
        "        elif mode==3:\n",
        "            similarity = [1 - spatial.distance.cosine(featureset, centroids[centroid]) for centroid in centroids]\n",
        "            classification = similarity.index(max(similarity))\n",
        "            y_pred.append(centroid_Labels[classification])\n",
        "    denominator = test_data.shape[0]\n",
        "    correctly_classified = 0\n",
        "    for i in range(0,len(y_pred)):\n",
        "        if y_true[i] == y_pred[i]:\n",
        "            correctly_classified += 1\n",
        "    accuracy = correctly_classified/denominator\n",
        "    return accuracy"
      ],
      "metadata": {
        "id": "IXDvdA7351LQ"
      },
      "execution_count": null,
      "outputs": []
    },
    {
      "cell_type": "code",
      "source": [
        "model1 = KMeans()\n",
        "centroids1,clusters1 = model1.train_Kmeans(data,10, max_iter=100,mode=1)"
      ],
      "metadata": {
        "id": "IqywtNzu52M3"
      },
      "execution_count": null,
      "outputs": []
    },
    {
      "cell_type": "code",
      "source": [
        "Euclidean_SSE = model1.calculate_SSE(centroids1,clusters1,data)"
      ],
      "metadata": {
        "id": "pmYU5R8f53fi"
      },
      "execution_count": null,
      "outputs": []
    },
    {
      "cell_type": "code",
      "source": [
        "print(\"Euclidean SSE:\",Euclidean_SSE)"
      ],
      "metadata": {
        "id": "KxXxQKfZ54ra"
      },
      "execution_count": null,
      "outputs": []
    },
    {
      "cell_type": "code",
      "source": [
        "cluster_labels1 = predict_cluster_labels(centroids1,clusters1,labels)\n",
        "cluster_labels1"
      ],
      "metadata": {
        "id": "V_6u7U4G55xo"
      },
      "execution_count": null,
      "outputs": []
    },
    {
      "cell_type": "code",
      "source": [
        "Accuracy_Euclidean = accuracy(centroids1, cluster_labels1,test_data,test_labels)\n",
        "Accuracy_Euclidean"
      ],
      "metadata": {
        "id": "xpS-G8oZ56nQ"
      },
      "execution_count": null,
      "outputs": []
    },
    {
      "cell_type": "code",
      "source": [
        "model2 = KMeans()\n",
        "centroids2,clusters2 = model2.train_Kmeans(data,10, max_iter=100,mode=2)\n",
        "Jaccard_SSE = model2.calculate_SSE(centroids2,clusters2,data)"
      ],
      "metadata": {
        "id": "YQplsIM557db"
      },
      "execution_count": null,
      "outputs": []
    },
    {
      "cell_type": "code",
      "source": [
        "print(\"Jacard SSE:\",Jaccard_SSE)"
      ],
      "metadata": {
        "id": "M8ikkX0i58Wx"
      },
      "execution_count": null,
      "outputs": []
    },
    {
      "cell_type": "code",
      "source": [
        "cluster_labels2 = predict_cluster_labels(centroids2,clusters2,labels)\n",
        "cluster_labels2"
      ],
      "metadata": {
        "id": "YcQLRuSR59ZB"
      },
      "execution_count": null,
      "outputs": []
    },
    {
      "cell_type": "code",
      "source": [
        "Accuracy_Jaccard = accuracy(centroids2, cluster_labels2,test_data,test_labels)\n",
        "Accuracy_Jaccard"
      ],
      "metadata": {
        "id": "WLF8jWw35-hg"
      },
      "execution_count": null,
      "outputs": []
    },
    {
      "cell_type": "code",
      "source": [
        "model3 = KMeans()\n",
        "centroids3,clusters3 = model3.train_Kmeans(data,10, max_iter = 100,mode=3)"
      ],
      "metadata": {
        "id": "ca02UMUX5_bI"
      },
      "execution_count": null,
      "outputs": []
    },
    {
      "cell_type": "code",
      "source": [
        "Cosine_SSE = model3.calculate_SSE(centroids3,clusters3,data)"
      ],
      "metadata": {
        "id": "it1TUa5n6AWB"
      },
      "execution_count": null,
      "outputs": []
    },
    {
      "cell_type": "code",
      "source": [
        "print(\"Euclidean SSE:\",Euclidean_SSE)\n",
        "print(\"Jacard SSE:\",Jaccard_SSE)\n",
        "print(\"Cosine SSE :\",Cosine_SSE)"
      ],
      "metadata": {
        "id": "aN4aEGsT6B1H"
      },
      "execution_count": null,
      "outputs": []
    },
    {
      "cell_type": "code",
      "source": [
        "cluster_labels3 = predict_cluster_labels(centroids3,clusters3,labels)\n",
        "cluster_labels3"
      ],
      "metadata": {
        "id": "Gt49JNDv6CrV"
      },
      "execution_count": null,
      "outputs": []
    },
    {
      "cell_type": "code",
      "source": [
        "Accuracy_Cosine = accuracy(centroids3, cluster_labels3,test_data,test_labels)\n",
        "Accuracy_Euclidean\n",
        "Accuracy_Jaccard\n",
        "Accuracy_Cosine"
      ],
      "metadata": {
        "id": "xWNtwAAp6DsJ"
      },
      "execution_count": null,
      "outputs": []
    },
    {
      "cell_type": "code",
      "source": [
        "print(\"Euclidean accuracy:\",Accuracy_Euclidean)\n",
        "print(\"Jacard accuracy:\",Accuracy_Jaccard)\n",
        "print(\"Cosine accuracy :\",Accuracy_Cosine)"
      ],
      "metadata": {
        "id": "Mn7fSanE6En6"
      },
      "execution_count": null,
      "outputs": []
    },
    {
      "cell_type": "code",
      "source": [],
      "metadata": {
        "id": "MkH_UaCV6FbR"
      },
      "execution_count": null,
      "outputs": []
    }
  ]
}